{
  "nbformat": 4,
  "nbformat_minor": 0,
  "metadata": {
    "colab": {
      "provenance": [],
      "machine_shape": "hm",
      "gpuType": "A100",
      "authorship_tag": "ABX9TyO+gkWFZoo+mhKSb71w7kZl",
      "include_colab_link": true
    },
    "kernelspec": {
      "name": "python3",
      "display_name": "Python 3"
    },
    "language_info": {
      "name": "python"
    },
    "accelerator": "GPU"
  },
  "cells": [
    {
      "cell_type": "markdown",
      "metadata": {
        "id": "view-in-github",
        "colab_type": "text"
      },
      "source": [
        "<a href=\"https://colab.research.google.com/github/Amishakavdia/Prompt-Engineering/blob/main/prompting_english.ipynb\" target=\"_parent\"><img src=\"https://colab.research.google.com/assets/colab-badge.svg\" alt=\"Open In Colab\"/></a>"
      ]
    },
    {
      "cell_type": "code",
      "execution_count": null,
      "metadata": {
        "id": "0Yr8xOY7cy5f"
      },
      "outputs": [],
      "source": [
        "!pip install accelerate==0.20.3"
      ]
    },
    {
      "cell_type": "code",
      "source": [
        "!pip install --disable-pip-version-check torch==1.13.1 torchdata==0.5.1"
      ],
      "metadata": {
        "id": "Vdw_UK7xc_aU"
      },
      "execution_count": null,
      "outputs": []
    },
    {
      "cell_type": "code",
      "source": [
        "!pip install transformers datasets==2.11.0"
      ],
      "metadata": {
        "id": "fYDMHZrPdC0z"
      },
      "execution_count": null,
      "outputs": []
    },
    {
      "cell_type": "code",
      "source": [
        "from datasets import load_dataset\n",
        "from transformers import AutoTokenizer\n",
        "from transformers import GenerationConfig\n",
        "from transformers import AutoModelForCausalLM"
      ],
      "metadata": {
        "id": "JATxs8H1dzq9"
      },
      "execution_count": null,
      "outputs": []
    },
    {
      "cell_type": "code",
      "source": [
        "device = \"cuda\" # the device to load the model onto\n",
        "\n",
        "model = AutoModelForCausalLM.from_pretrained(\"mistralai/Mistral-7B-Instruct-v0.2\")\n",
        "tokenizer = AutoTokenizer.from_pretrained(\"mistralai/Mistral-7B-Instruct-v0.2\")\n"
      ],
      "metadata": {
        "id": "ZWWveWpLeAHp"
      },
      "execution_count": null,
      "outputs": []
    },
    {
      "cell_type": "code",
      "source": [
        "messages = [\n",
        "      {\"role\": \"user\", \"content\": '''\n",
        "    You're are a helpful Assistant, and you only response to the 'Assistant'.\n",
        "     Remember, maintain a natural tone. Be precise, concise, and casual.\n",
        "     Using the following rules change the sentence given by the user:\n",
        "     Rule 1. Use only active voice.\n",
        "     Rule 2. Avoid passive voice.\n",
        "     Rule 3. Use only direct speech.\n",
        "     Rule 4. Avoid indirect speech.\n",
        "\n",
        "     Example: The cat was chased by the dog.\n",
        "    '''},\n",
        "    {\"role\": \"assistant\", \"content\": \"The dog chased the cat.\"},\n",
        "    {\"role\": \"user\", \"content\": \"we asked him if he was ill.\"}\n",
        "]\n",
        "\n",
        "encodeds = tokenizer.apply_chat_template(messages, return_tensors=\"pt\")\n",
        "\n",
        "model_inputs = encodeds.to(device)\n",
        "model.to(device)\n",
        "\n",
        "generated_ids = model.generate(model_inputs, max_new_tokens=1000, do_sample=True)\n",
        "decoded = tokenizer.batch_decode(generated_ids)\n",
        "print(decoded[0])"
      ],
      "metadata": {
        "id": "O6J74lLteKVX",
        "colab": {
          "base_uri": "https://localhost:8080/"
        },
        "outputId": "a25d9689-f69f-47c0-ac6d-54d7fbece9b8"
      },
      "execution_count": null,
      "outputs": [
        {
          "output_type": "stream",
          "name": "stderr",
          "text": [
            "The attention mask and the pad token id were not set. As a consequence, you may observe unexpected behavior. Please pass your input's `attention_mask` to obtain reliable results.\n",
            "Setting `pad_token_id` to `eos_token_id`:2 for open-end generation.\n"
          ]
        },
        {
          "output_type": "stream",
          "name": "stdout",
          "text": [
            "<s> [INST] \n",
            "    You're are a helpful Assistant, and you only response to the 'Assistant'.\n",
            "     Remember, maintain a natural tone. Be precise, concise, and casual.\n",
            "     Using the following rules change the sentence given by the user:\n",
            "     Rule 1. Use only active voice.\n",
            "     Rule 2. Avoid passive voice.\n",
            "     Rule 3. Use only direct speech.\n",
            "     Rule 4. Avoid indirect speech.\n",
            "\n",
            "     Example: The cat was chased by the dog.\n",
            "     [/INST]The dog chased the cat.</s> [INST] we asked him if he was ill. [/INST] \"Did you ask him if he's ill?\" (Direct speech, active voice)</s>\n"
          ]
        }
      ]
    },
    {
      "cell_type": "markdown",
      "source": [],
      "metadata": {
        "id": "_I-vW5fBkhPG"
      }
    }
  ]
}